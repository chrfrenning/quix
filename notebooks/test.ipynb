{
 "cells": [
  {
   "cell_type": "code",
   "execution_count": 1,
   "id": "db1aa744-801c-4fab-bced-3450aa3e5eb4",
   "metadata": {
    "tags": []
   },
   "outputs": [],
   "source": [
    "%load_ext autoreload\n",
    "%autoreload 2\n",
    "%matplotlib inline"
   ]
  },
  {
   "cell_type": "code",
   "execution_count": 2,
   "id": "03e4d511-f256-4666-ba89-4def3151fbf1",
   "metadata": {
    "tags": []
   },
   "outputs": [],
   "source": [
    "import os"
   ]
  },
  {
   "cell_type": "code",
   "execution_count": 3,
   "id": "2e5d661f-6a77-4d66-893e-1cba1c220930",
   "metadata": {
    "tags": []
   },
   "outputs": [],
   "source": [
    "os.environ['CUDA_VISIBLE_DEVICES'] = '0,2'\n",
    "os.environ['WORLD_SIZE'] = '2'\n",
    "os.environ['RANK'] = '0'"
   ]
  },
  {
   "cell_type": "code",
   "execution_count": 4,
   "id": "85aadf1b-d97f-4548-a0ff-07e180fe68df",
   "metadata": {
    "tags": []
   },
   "outputs": [],
   "source": [
    "import torch\n",
    "import torch.nn as nn\n",
    "import torch.nn.functional as F\n",
    "import torch.fft as fft\n",
    "import matplotlib.pyplot as plt\n",
    "import sys\n",
    "\n",
    "sys.path.append('../')\n",
    "plt.rcParams['figure.figsize'] = (9,9)"
   ]
  },
  {
   "cell_type": "code",
   "execution_count": 5,
   "id": "22d625a8-5859-4008-ad6f-83072d86a5e5",
   "metadata": {
    "tags": []
   },
   "outputs": [
    {
     "data": {
      "text/plain": [
       "2"
      ]
     },
     "execution_count": 5,
     "metadata": {},
     "output_type": "execute_result"
    }
   ],
   "source": [
    "torch.cuda.device_count()"
   ]
  },
  {
   "cell_type": "code",
   "execution_count": 6,
   "id": "e91fcabb-80f7-45ee-a6d2-6f88647281a6",
   "metadata": {
    "tags": []
   },
   "outputs": [],
   "source": [
    "from quix import cfg, run, data, dist"
   ]
  },
  {
   "cell_type": "code",
   "execution_count": 7,
   "id": "62a496b4-e612-416c-84fd-aafe327d2ecc",
   "metadata": {
    "tags": []
   },
   "outputs": [
    {
     "name": "stderr",
     "output_type": "stream",
     "text": [
      "/uio/hume/student-u42/mariuaas/xptdev/quix/notebooks/../quix/run/runner.py:61: UserWarning: Missing args: rank,local_rank for distributed training.\n",
      "Running with distributed = False\n",
      "  warnings.warn(msg)\n"
     ]
    }
   ],
   "source": [
    "runner = run.Runner.argparse(_testargs=['--model', 'alexnet', '--data-path', '/work2/litdata/', '--cutmix-alpha', '1.0'])"
   ]
  },
  {
   "cell_type": "code",
   "execution_count": null,
   "id": "880de424-76fa-458c-9444-70086aca353a",
   "metadata": {
    "tags": []
   },
   "outputs": [],
   "source": [
    "runner.run()"
   ]
  },
  {
   "cell_type": "code",
   "execution_count": null,
   "id": "d9994195-8e37-4ff8-9a5b-e786f1ccdb47",
   "metadata": {},
   "outputs": [],
   "source": []
  },
  {
   "cell_type": "code",
   "execution_count": null,
   "id": "62c827ef-bef2-4762-93ea-32f409963e8c",
   "metadata": {},
   "outputs": [],
   "source": [
    "rdict = runner.parse_run()"
   ]
  },
  {
   "cell_type": "code",
   "execution_count": null,
   "id": "69f11f51-1515-47df-bf76-cb5abdb86220",
   "metadata": {
    "tags": []
   },
   "outputs": [],
   "source": [
    "trainloader, valloader, traindata, valdata = runner.parse_data()"
   ]
  },
  {
   "cell_type": "code",
   "execution_count": null,
   "id": "9ba5bcec-499e-473e-9eb8-230517893564",
   "metadata": {
    "tags": []
   },
   "outputs": [],
   "source": [
    "model = runner.parse_model()"
   ]
  },
  {
   "cell_type": "code",
   "execution_count": null,
   "id": "441951ce-755a-4973-b253-18c1fcda9d0b",
   "metadata": {
    "tags": []
   },
   "outputs": [],
   "source": [
    "loss_fn = runner.parse_loss()"
   ]
  },
  {
   "cell_type": "code",
   "execution_count": null,
   "id": "8d990bae-1aa3-4d46-90f5-a5b6f275a3aa",
   "metadata": {
    "tags": []
   },
   "outputs": [],
   "source": [
    "optimizer = runner.parse_optimizer(model)"
   ]
  },
  {
   "cell_type": "code",
   "execution_count": null,
   "id": "32dc8f2f-c295-4c9b-833e-ef4a71edc97b",
   "metadata": {
    "tags": []
   },
   "outputs": [],
   "source": [
    "scaler = runner.parse_scaler()"
   ]
  },
  {
   "cell_type": "code",
   "execution_count": null,
   "id": "11985926-c461-49a5-abda-02f7aebd92a9",
   "metadata": {
    "tags": []
   },
   "outputs": [],
   "source": [
    "scheduler = runner.parse_scheduler(optimizer, traindata)"
   ]
  },
  {
   "cell_type": "code",
   "execution_count": null,
   "id": "9499fe30-eb75-452e-8a2c-0664c6257153",
   "metadata": {
    "tags": []
   },
   "outputs": [],
   "source": [
    "model, model_without_ddp = runner.parse_ddp(model)"
   ]
  },
  {
   "cell_type": "code",
   "execution_count": null,
   "id": "2b7618ba-add1-437d-82e1-f03813fbf1cd",
   "metadata": {
    "tags": []
   },
   "outputs": [],
   "source": [
    "model_ema = runner.parse_ema(model)"
   ]
  },
  {
   "cell_type": "code",
   "execution_count": null,
   "id": "37fb2fd8-cd68-4280-a9f9-de83eec6123a",
   "metadata": {
    "tags": []
   },
   "outputs": [],
   "source": [
    "start_epoch = runner.parse_checkpoint(\n",
    "    model_without_ddp, optimizer, scheduler, scaler, model_ema\n",
    ")"
   ]
  },
  {
   "cell_type": "code",
   "execution_count": null,
   "id": "d4329f6f-2108-493e-b6f5-6a05300b798a",
   "metadata": {
    "tags": []
   },
   "outputs": [],
   "source": [
    "logger = runner.parse_logger()"
   ]
  },
  {
   "cell_type": "code",
   "execution_count": null,
   "id": "4bf1f7bc-bd94-4ab4-ab0e-2e944bc09815",
   "metadata": {},
   "outputs": [],
   "source": [
    "runner.run()"
   ]
  },
  {
   "cell_type": "code",
   "execution_count": null,
   "id": "c16ad764-be90-463c-815c-09c03e4b549f",
   "metadata": {
    "tags": []
   },
   "outputs": [],
   "source": [
    "import yaml"
   ]
  },
  {
   "cell_type": "markdown",
   "id": "bf85c4d9-cf7d-48f9-9397-85ea55584e00",
   "metadata": {},
   "source": [
    "# Missing:\n",
    "\n",
    "- Add device ID in DDP (How)\n",
    "- Logger parsing (decide on smoothing strategy)\n",
    "- Checkpointing rolling save\n",
    "\n",
    "## Later\n",
    "- Make defaults more like torchrun?\n",
    "- RASampler\n",
    "- Alternate Schedulers / Optimizers\n"
   ]
  },
  {
   "cell_type": "code",
   "execution_count": null,
   "id": "49a38897-9a8c-4f76-882b-29cb0e8e66a4",
   "metadata": {},
   "outputs": [],
   "source": [
    "logger = runner.parse_logger()"
   ]
  },
  {
   "cell_type": "code",
   "execution_count": null,
   "id": "01b19dbf-da68-42a3-a960-3f9c939a7de0",
   "metadata": {
    "tags": []
   },
   "outputs": [],
   "source": [
    "loss_fn, optimizer, scaler, scheduler, model_ema, start_epoch = runner.parse_optimization(model)"
   ]
  },
  {
   "cell_type": "code",
   "execution_count": null,
   "id": "56798d69-a6f3-4be4-b633-983f7e99579c",
   "metadata": {
    "tags": []
   },
   "outputs": [],
   "source": [
    "for batch in trainloader:\n",
    "    break"
   ]
  },
  {
   "cell_type": "code",
   "execution_count": null,
   "id": "7ae6e669-4dc6-414b-8bff-c9e3bc5cc72c",
   "metadata": {
    "tags": []
   },
   "outputs": [],
   "source": [
    "plt.matshow(batch[0][22].permute(1,2,0))"
   ]
  },
  {
   "cell_type": "code",
   "execution_count": null,
   "id": "3530b0db-adc6-4d94-810e-3ef505397dad",
   "metadata": {},
   "outputs": [],
   "source": []
  }
 ],
 "metadata": {
  "kernelspec": {
   "display_name": "Python 3 (ipykernel)",
   "language": "python",
   "name": "python3"
  },
  "language_info": {
   "codemirror_mode": {
    "name": "ipython",
    "version": 3
   },
   "file_extension": ".py",
   "mimetype": "text/x-python",
   "name": "python",
   "nbconvert_exporter": "python",
   "pygments_lexer": "ipython3",
   "version": "3.10.4"
  }
 },
 "nbformat": 4,
 "nbformat_minor": 5
}
